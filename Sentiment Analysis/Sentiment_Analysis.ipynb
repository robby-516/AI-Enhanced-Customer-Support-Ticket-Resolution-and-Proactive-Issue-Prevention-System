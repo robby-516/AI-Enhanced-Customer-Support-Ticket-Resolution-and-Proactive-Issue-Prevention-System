{
  "nbformat": 4,
  "nbformat_minor": 0,
  "metadata": {
    "colab": {
      "provenance": [],
      "gpuType": "T4"
    },
    "kernelspec": {
      "name": "python3",
      "display_name": "Python 3"
    },
    "language_info": {
      "name": "python"
    },
    "accelerator": "GPU"
  },
  "cells": [
    {
      "cell_type": "code",
      "source": [
        "!export GROQ_API_KEY=\"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\""
      ],
      "metadata": {
        "id": "ZQcEjKbyqVx6"
      },
      "execution_count": 4,
      "outputs": []
    },
    {
      "cell_type": "code",
      "source": [
        "import pandas as pd\n",
        "df = pd.read_parquet(\"hf://datasets/NebulaByte/E-Commerce_Customer_Support_Conversations/data/train-00000-of-00001-a5a7c6e4bb30b016.parquet\")"
      ],
      "metadata": {
        "id": "yPCrzelhsgph"
      },
      "execution_count": 19,
      "outputs": []
    },
    {
      "source": [
        "import os\n",
        "from groq import Groq\n",
        "\n",
        "# Set the environment variable\n",
        "os.environ[\"GROQ_API_KEY\"] = \"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\"\n",
        "\n",
        "# Initialize the Groq client\n",
        "client = Groq(api_key=os.environ.get(\"GROQ_API_KEY\"))\n"
      ],
      "cell_type": "code",
      "metadata": {
        "id": "_ETgi_hsrH_M"
      },
      "execution_count": 20,
      "outputs": []
    },
    {
      "cell_type": "code",
      "source": [
        "def get_sentiment(title, chat_history, max_retries=3):\n",
        "    for attempt in range(max_retries):\n",
        "        try:\n",
        "            # Create the chat completion request\n",
        "            chat_completion = client.chat.completions.create(\n",
        "                messages=[\n",
        "                    {\n",
        "                        \"role\": \"system\",\n",
        "                        \"content\": \"You are a Support Agent analyzing conversation sentiment.\"\n",
        "                    },\n",
        "                    {\n",
        "                        \"role\": \"user\",\n",
        "                        \"content\": f\"\"\"Evaluate the sentiment of this conversation in LOWERCASE:\n",
        "                        neutral, positive, negative, or frustrated.\n",
        "\n",
        "                        Conversation Title: \"{title}\"\n",
        "                        Conversation History: \"{chat_history}\"\n",
        "\n",
        "                        Output ONLY the sentiment category.\"\"\"\n",
        "                    }\n",
        "                ],\n",
        "                model=\"llama3-8b-8192\",\n",
        "                max_tokens=10,\n",
        "                temperature=0.5\n",
        "            )\n",
        "\n",
        "            # Extract and validate sentiment\n",
        "            sentiment = chat_completion.choices[0].message.content.strip().lower()\n",
        "            valid_sentiments = ['neutral', 'positive', 'negative', 'frustrated']\n",
        "\n",
        "            return sentiment if sentiment in valid_sentiments else 'neutral'\n",
        "\n",
        "        except Exception as e:\n",
        "            print(f\"Sentiment Analysis Error: {e}\")\n",
        "            return 'neutral'\n"
      ],
      "metadata": {
        "id": "f9jHBlDwqqYD"
      },
      "execution_count": 63,
      "outputs": []
    },
    {
      "cell_type": "code",
      "source": [
        "def analyze_sentiment_dataset(df):\n",
        "    # Apply sentiment analysis to a subset of the dataset\n",
        "    #res = df.apply(lambda x: get_sentiment(x[\"issue_category_sub_category\"], x[\"conversation\"]), axis=1)\n",
        "\n",
        "    # Prepare true and predicted labels\n",
        "    # min_len = min(len(df[\"customer_sentiment\"]), len(res))\n",
        "    y_true = df[\"customer_sentiment\"]\n",
        "    y_pred = df['predicted_sentiment']\n",
        "\n",
        "    # Define sentiment labels\n",
        "    labels = ['frustrated', 'negative', 'neutral', 'positive']\n",
        "\n",
        "    # Create confusion matrix\n",
        "    plt.figure(figsize=(8, 6))\n",
        "    cm = confusion_matrix(y_true, y_pred, labels=labels)\n",
        "    sns.heatmap(cm, annot=True, fmt=\"d\", cmap=\"Blues\", xticklabels=labels, yticklabels=labels)\n",
        "    plt.title(\"Sentiment Confusion Matrix\")\n",
        "    plt.xlabel(\"Predicted Label\")\n",
        "    plt.ylabel(\"True Label\")\n",
        "    plt.show()\n",
        "\n",
        "    # Calculate and print F1 scores\n",
        "    print(\"Sentiment Analysis Metrics:\")\n",
        "    print(classification_report(y_true, y_pred, labels=labels))\n",
        "\n",
        "    return y_true, y_pred"
      ],
      "metadata": {
        "id": "Ws6Zw_xvrhIH"
      },
      "execution_count": 64,
      "outputs": []
    },
    {
      "cell_type": "code",
      "source": [
        "def main(df):\n",
        "    sample_df = df.iloc[:50]\n",
        "\n",
        "    # Apply sentiment analysis\n",
        "    sample_sentiments = sample_df.apply(\n",
        "        lambda x: get_sentiment(x[\"issue_category_sub_category\"], x[\"conversation\"]),\n",
        "        axis=1\n",
        "    )\n",
        "\n",
        "    # Add predicted sentiments\n",
        "    sample_df['predicted_sentiment'] = sample_sentiments\n",
        "\n",
        "    # Display and analyze results\n",
        "    print(sample_df[['issue_category_sub_category', 'customer_sentiment', 'predicted_sentiment']])\n",
        "    analyze_sentiment_dataset(sample_df)"
      ],
      "metadata": {
        "id": "pdK6bBTjrnm4"
      },
      "execution_count": 65,
      "outputs": []
    },
    {
      "cell_type": "code",
      "source": [
        "# Assuming 'df' is your loaded DataFrame\n",
        "import matplotlib.pyplot as plt\n",
        "import seaborn as sns\n",
        "from sklearn.metrics import confusion_matrix, classification_report\n",
        "main(df)"
      ],
      "metadata": {
        "colab": {
          "base_uri": "https://localhost:8080/",
          "height": 1000
        },
        "id": "D93m8eMIrvnn",
        "outputId": "cb549c27-6b39-49c9-ae42-fc2bb81ff47f"
      },
      "execution_count": 66,
      "outputs": [
        {
          "output_type": "stream",
          "name": "stderr",
          "text": [
            "<ipython-input-65-260622a77826>:12: SettingWithCopyWarning: \n",
            "A value is trying to be set on a copy of a slice from a DataFrame.\n",
            "Try using .loc[row_indexer,col_indexer] = value instead\n",
            "\n",
            "See the caveats in the documentation: https://pandas.pydata.org/pandas-docs/stable/user_guide/indexing.html#returning-a-view-versus-a-copy\n",
            "  sample_df['predicted_sentiment'] = sample_sentiments\n"
          ]
        },
        {
          "output_type": "stream",
          "name": "stdout",
          "text": [
            "                          issue_category_sub_category customer_sentiment  \\\n",
            "0   Mobile Number and Email Verification -> Verifi...            neutral   \n",
            "1   Pickup and Shipping -> Reasons for being asked...            neutral   \n",
            "2   Replacement and Return Process -> Inability to...            neutral   \n",
            "3   Login Issues and Error Messages -> Error messa...            neutral   \n",
            "4   Order Delivery Issues -> Delivery not attempte...           negative   \n",
            "5   Account Reactivation and Deactivation -> React...           negative   \n",
            "6   Cash on Delivery (CoD) Refunds -> Refund timel...         frustrated   \n",
            "7   Product Availability and Status -> Ordering 'O...            neutral   \n",
            "8   Product Installation -> Installation after del...           negative   \n",
            "9   Mobile Number and Email Verification -> Issues...           negative   \n",
            "10  Order Cancellation -> Time taken to cancel an ...            neutral   \n",
            "11  Lost or Missing Warranty Card -> Obtaining war...            neutral   \n",
            "12  Order Delivery Issues -> Delivery not attempte...           negative   \n",
            "13  Return and Exchange -> Returning or exchanging...            neutral   \n",
            "14  Replacement and Return Process -> Time frame f...            neutral   \n",
            "15          Order Delivery Issues -> Delayed delivery         frustrated   \n",
            "16  Start Date of Warranty -> Determining the appl...            neutral   \n",
            "17  Invoice and Payment -> Billing Discrepancies/O...           negative   \n",
            "18  Return and Exchange -> Modes of refund availab...           negative   \n",
            "19  Start Date of Warranty -> Determining the appl...            neutral   \n",
            "20     Order Delivery Issues -> Package not delivered           negative   \n",
            "21  Account and Shopping -> Account requirement fo...            neutral   \n",
            "22  Login Issues and Error Messages -> Error messa...            neutral   \n",
            "23           Miscellaneous -> Estimated delivery time           negative   \n",
            "24      Return and Exchange -> Returning a wrong item            neutral   \n",
            "25  Accessing Warranty Details -> Retrieving warra...            neutral   \n",
            "26  Mobile Number and Email Verification -> Changi...            neutral   \n",
            "27     Order Delivery Issues -> Package not delivered           negative   \n",
            "28  Availability of Faster Delivery Options -> Ina...           negative   \n",
            "29  Pickup and Shipping -> Changing the address fo...           negative   \n",
            "30  Order Delivery Issues -> Inability to track th...           negative   \n",
            "31  Mobile Number and Email Verification -> Unders...            neutral   \n",
            "32  Account Reactivation and Deactivation -> React...           negative   \n",
            "33  Returns and Refunds -> Service center denial o...           negative   \n",
            "34  Warranty Terms and Changes -> Impact of change...            neutral   \n",
            "35  Returns and Refunds -> Service center denial o...           negative   \n",
            "36           Miscellaneous -> Estimated delivery time           negative   \n",
            "37  Return and Exchange -> Returning or exchanging...            neutral   \n",
            "38  Pricing and Discounts -> Discounts through exc...         frustrated   \n",
            "39  Login Methods -> Using an international number...            neutral   \n",
            "40           Miscellaneous -> Estimated delivery time           negative   \n",
            "41  Cash on Delivery (CoD) Refunds -> Refund for C...           negative   \n",
            "42  Product Availability for Shipping -> Inability...           negative   \n",
            "43  Order Delivery Issues -> Out for delivery but ...           negative   \n",
            "44  Return and Exchange -> Checking the status of ...            neutral   \n",
            "45          Order Delivery Issues -> Delayed delivery         frustrated   \n",
            "46    Return Checks and Fees -> Applicable Return fee            neutral   \n",
            "47  Invoice and Payment -> Getting invoices for pr...           negative   \n",
            "48  Product Installation -> Impact on warranty if ...            neutral   \n",
            "49  Product Installation -> Impact on warranty if ...            neutral   \n",
            "\n",
            "   predicted_sentiment  \n",
            "0              neutral  \n",
            "1              neutral  \n",
            "2              neutral  \n",
            "3             positive  \n",
            "4             negative  \n",
            "5           frustrated  \n",
            "6           frustrated  \n",
            "7              neutral  \n",
            "8              neutral  \n",
            "9           frustrated  \n",
            "10             neutral  \n",
            "11             neutral  \n",
            "12          frustrated  \n",
            "13             neutral  \n",
            "14            positive  \n",
            "15            negative  \n",
            "16             neutral  \n",
            "17            positive  \n",
            "18            negative  \n",
            "19             neutral  \n",
            "20            negative  \n",
            "21             neutral  \n",
            "22             neutral  \n",
            "23          frustrated  \n",
            "24             neutral  \n",
            "25             neutral  \n",
            "26             neutral  \n",
            "27            negative  \n",
            "28          frustrated  \n",
            "29             neutral  \n",
            "30          frustrated  \n",
            "31             neutral  \n",
            "32             neutral  \n",
            "33          frustrated  \n",
            "34             neutral  \n",
            "35            positive  \n",
            "36          frustrated  \n",
            "37             neutral  \n",
            "38             neutral  \n",
            "39             neutral  \n",
            "40             neutral  \n",
            "41          frustrated  \n",
            "42          frustrated  \n",
            "43            negative  \n",
            "44             neutral  \n",
            "45            negative  \n",
            "46             neutral  \n",
            "47             neutral  \n",
            "48             neutral  \n",
            "49             neutral  \n"
          ]
        },
        {
          "output_type": "display_data",
          "data": {
            "text/plain": [
              "<Figure size 800x600 with 2 Axes>"
            ],
            "image/png": "[encoded data removed]"
          },
          "metadata": {}
        },
        {
          "output_type": "stream",
          "name": "stdout",
          "text": [
            "Sentiment Analysis Metrics:\n",
            "              precision    recall  f1-score   support\n",
            "\n",
            "  frustrated       0.09      0.25      0.13         4\n",
            "    negative       0.71      0.23      0.34        22\n",
            "     neutral       0.79      0.92      0.85        24\n",
            "    positive       0.00      0.00      0.00         0\n",
            "\n",
            "    accuracy                           0.56        50\n",
            "   macro avg       0.40      0.35      0.33        50\n",
            "weighted avg       0.70      0.56      0.57        50\n",
            "\n"
          ]
        },
        {
          "output_type": "stream",
          "name": "stderr",
          "text": [
            "/usr/local/lib/python3.11/dist-packages/sklearn/metrics/_classification.py:1565: UndefinedMetricWarning: Recall is ill-defined and being set to 0.0 in labels with no true samples. Use `zero_division` parameter to control this behavior.\n",
            "  _warn_prf(average, modifier, f\"{metric.capitalize()} is\", len(result))\n",
            "/usr/local/lib/python3.11/dist-packages/sklearn/metrics/_classification.py:1565: UndefinedMetricWarning: Recall is ill-defined and being set to 0.0 in labels with no true samples. Use `zero_division` parameter to control this behavior.\n",
            "  _warn_prf(average, modifier, f\"{metric.capitalize()} is\", len(result))\n",
            "/usr/local/lib/python3.11/dist-packages/sklearn/metrics/_classification.py:1565: UndefinedMetricWarning: Recall is ill-defined and being set to 0.0 in labels with no true samples. Use `zero_division` parameter to control this behavior.\n",
            "  _warn_prf(average, modifier, f\"{metric.capitalize()} is\", len(result))\n"
          ]
        }
      ]
    }
  ]
}